{
 "cells": [
  {
   "cell_type": "markdown",
   "metadata": {},
   "source": [
    "## 트리"
   ]
  },
  {
   "cell_type": "markdown",
   "metadata": {},
   "source": [
    "### 1. 트리 (Tree) 구조\n",
    "- 트리: Node와 Branch를 이용해서, 사이클을 이루지 않도록 구성한 데이터 구조\n",
    "- 실제로 어디에 많이 사용되나? \n",
    "  - 트리 중 이진 트리 (Binary Tree) 형태의 구조로, 탐색(검색) 알고리즘 구현을 위해 많이 사용됨"
   ]
  },
  {
   "cell_type": "markdown",
   "metadata": {},
   "source": [
    "### 2. 알아둘 용어\n",
    "- Node: 트리에서 데이터를 저장하는 기본 요소 (데이터와 다른 연결된 노드에 대한 Branch 정보 포함)\n",
    "- Root Node: 트리 맨 위에 있는 노드\n",
    "- Level: 최상위 노드를 Level 0으로 하였을 때, 하위 Branch로 연결된 노드의 깊이를 나타냄\n",
    "- Parent Node: 어떤 노드의 다음 레벨에 연결된 노드\n",
    "- Child Node: 어떤 노드의 상위 레벨에 연결된 노드\n",
    "- Leaf Node (Terminal Node): Child Node가 하나도 없는 노드\n",
    "- Sibling (Brother Node): 동일한 Parent Node를 가진 노드\n",
    "- Depth: 트리에서 Node가 가질 수 있는 최대 Level\n",
    "<img src=\"http://www.fun-coding.org/00_Images/tree.png\" width=\"600\" />\n"
   ]
  },
  {
   "cell_type": "markdown",
   "metadata": {},
   "source": [
    "### 3. 이진 트리와 이진 탐색 트리 (Binary Search Tree)\n",
    "- 이진 트리: 노드의 최대 Branch가 2인 트리\n",
    "- 이진 탐색 트리 (Binary Search Tree, BST): 이진 트리에 다음과 같은 추가적인 조건이 있는 트리\n",
    "  - 왼쪽 노드는 해당 노드보다 작은 값, 오른쪽 노드는 해당 노드보다 큰 값을 가지고 있음!\n",
    "  \n",
    "<img src=\"https://www.mathwarehouse.com/programming/images/binary-search-tree/binary-search-tree-insertion-animation.gif\" />\n",
    "\n",
    "(출처: https://www.mathwarehouse.com/programming/gifs/binary-search-tree.php#binary-search-tree-insertion-node)  "
   ]
  },
  {
   "cell_type": "markdown",
   "metadata": {},
   "source": [
    "### 4. 자료 구조 이진 탐색 트리의 장점과 주요 용도\n",
    "- 주요 용도: 데이터 검색(탐색) \n",
    "- 장점: 탐색 속도를 개선할 수 있음\n",
    "\n",
    "> 단점은 이진 탐색 트리 알고리즘 이해 후에 살펴보기로 함\n",
    "\n",
    "### 이진트리와 정렬된 배열간의 탐색 비교\n",
    "<img src=\"https://www.mathwarehouse.com/programming/images/binary-search-tree/binary-search-tree-sorted-array-animation.gif\" />\n",
    "\n",
    "(출처: https://www.mathwarehouse.com/programming/gifs/binary-search-tree.php#binary-search-tree-insertion-node)"
   ]
  },
  {
   "cell_type": "markdown",
   "metadata": {},
   "source": [
    "### 5. 파이썬 객체지향 프로그래밍으로 링크드 리스트 구현하기"
   ]
  },
  {
   "cell_type": "markdown",
   "metadata": {},
   "source": [
    "#### 5.1. 노드 클래스 만들기"
   ]
  },
  {
   "cell_type": "code",
   "execution_count": 1,
   "metadata": {},
   "outputs": [],
   "source": [
    "class Node:\n",
    "    def __init__(self, value):\n",
    "        self.value = value\n",
    "        self.left = None\n",
    "        self.right = None"
   ]
  },
  {
   "cell_type": "markdown",
   "metadata": {},
   "source": [
    "#### 5.2. 이진 탐색 트리에 데이터 넣기\n",
    "* 이진 탐색 트리 조건에 부합하게 데이터를 넣어야 함"
   ]
  },
  {
   "cell_type": "code",
   "execution_count": 3,
   "metadata": {},
   "outputs": [],
   "source": [
    "class BinarySearchTree:\n",
    "    def __init__(self, head):\n",
    "        self.head = Node(head)\n",
    "    \n",
    "    def insert(self, value):\n",
    "        current_node = self.head\n",
    "        while True:\n",
    "            if value < current_node.value:\n",
    "                if current_node.left != None:\n",
    "                    current_node = current_node.left\n",
    "                else:\n",
    "                    current_node.left = Node(value)\n",
    "                    break\n",
    "            else:\n",
    "                if current_node.right != None:\n",
    "                    current_node = current_node.right\n",
    "                else:\n",
    "                    current_node.right = Node(value)\n",
    "                    break"
   ]
  },
  {
   "cell_type": "code",
   "execution_count": 5,
   "metadata": {},
   "outputs": [
    {
     "data": {
      "text/plain": [
       "<__main__.BinarySearchTree at 0x7fc878ee66d0>"
      ]
     },
     "execution_count": 5,
     "metadata": {},
     "output_type": "execute_result"
    }
   ],
   "source": [
    "BST = BinarySearchTree(1)\n",
    "BST.insert(2)"
   ]
  },
  {
   "cell_type": "markdown",
   "metadata": {
    "collapsed": true
   },
   "source": [
    "#### 5.3. 이진 탐색 트리 탐색"
   ]
  },
  {
   "cell_type": "code",
   "execution_count": 6,
   "metadata": {},
   "outputs": [],
   "source": [
    "class BinarySearchTree:\n",
    "    def __init__(self, head):\n",
    "        self.head = Node(head)\n",
    "    \n",
    "    def insert(self, value):\n",
    "        current_node = self.head\n",
    "        while True:\n",
    "            if value < current_node.value:\n",
    "                if current_node.left != None:\n",
    "                    current_node = current_node.left\n",
    "                else:\n",
    "                    current_node.left = Node(value)\n",
    "                    break\n",
    "            else:\n",
    "                if current_node.right != None:\n",
    "                    current_node = current_node.right\n",
    "                else:\n",
    "                    current_node.right = Node(value)\n",
    "                    break\n",
    "    \n",
    "    def search(self, value):\n",
    "        current_node = self.head\n",
    "        while current_node:\n",
    "            if current_node.value == value:\n",
    "                return True\n",
    "            elif current_node.value > value:\n",
    "                current_node = current_node.left\n",
    "            else:\n",
    "                current_node = current_node.right\n",
    "        return False"
   ]
  },
  {
   "cell_type": "code",
   "execution_count": 7,
   "metadata": {},
   "outputs": [],
   "source": [
    "BST = BinarySearchTree(1)\n",
    "BST.insert(2)\n",
    "BST.insert(3)\n",
    "BST.insert(0)\n",
    "BST.insert(4)\n",
    "BST.insert(8)"
   ]
  },
  {
   "cell_type": "code",
   "execution_count": 10,
   "metadata": {},
   "outputs": [
    {
     "name": "stdout",
     "output_type": "stream",
     "text": [
      "False\n",
      "True\n"
     ]
    }
   ],
   "source": [
    "print(BST.search(-1))\n",
    "print(BST.search(0))"
   ]
  },
  {
   "cell_type": "markdown",
   "metadata": {},
   "source": [
    "#### 5.4. 이진 탐색 트리 삭제 \n",
    "* 매우 복잡함. **경우를 나누어서 이해하는 것이 좋음**\n",
    "\n",
    "#### 5.4.1. Leaf Node 삭제 \n",
    "* Leaf Node: Child Node 가 없는 Node\n",
    "* 삭제할 Node의 Parent Node가 삭제할 Node를 가리키지 않도록 한다. \n",
    "<img src=\"http://www.fun-coding.org/00_Images/tree_remove_leaf.png\" width=\"800\" />\n",
    "\n",
    "#### 5.4.2. Child Node 가 하나인 Node 삭제 \n",
    "* 삭제할 Node의 Parent Node가 삭제할 Node의 Child Node를 가리키도록 한다.\n",
    "<img src=\"http://www.fun-coding.org/00_Images/tree_remove_1child.png\" width=\"800\" />\n",
    "\n",
    "#### 5.4.3. Child Node 가 두 개인 Node 삭제\n",
    "1. **삭제할 Node의 오른쪽 자식 중, 가장 작은 값을 삭제할 Node의 Parent Node가 가리키도록 한다.**\n",
    "2. 삭제할 Node의 왼쪽 자식 중, 가장 큰 값을 삭제할 Node의 Parent Node가 가리키도록 한다.\n",
    "<img src=\"http://www.fun-coding.org/00_Images/tree_remove_2child.png\" width=\"800\" />\n",
    "\n",
    "##### 5.4.3.1. 삭제할 Node의 오른쪽 자식중, 가장 작은 값을 삭제할 Node의 Parent Node가 가리키게 할 경우\n",
    "- 삭제할 Node의 오른쪽 자식 선택\n",
    "- 오른쪽 자식의 가장 왼쪽에 있는 Node를 선택\n",
    "- 해당 Node를 삭제할 Node의 Parent Node의 왼쪽 Branch가 가리키게 함\n",
    "- 해당 Node의 왼쪽 Branch가 삭제할 Node의 왼쪽 Child Node를 가리키게 함\n",
    "- 해당 Node의 오른쪽 Branch가 삭제할 Node의 오른쪽 Child Node를 가리키게 함\n",
    "- 만약 해당 Node가 오른쪽 Child Node를 가지고 있을 경우, 해당 Node의 본래 Parent Node의 왼쪽 Branch가 해당 오른쪽 Child Node를 가리키게 함\n",
    "\n",
    "##### 5.4.3.2. 삭제할 Node의 왼쪽 자식중, 가장 큰 값을 삭제할 Node의 Parent Node가 가리키게 할 경우\n",
    "- "
   ]
  },
  {
   "cell_type": "markdown",
   "metadata": {},
   "source": [
    "### 5.5. 이진 탐색 트리 삭제 코드 구현과 분석"
   ]
  },
  {
   "cell_type": "markdown",
   "metadata": {},
   "source": [
    "#### 5.5.1 삭제할 Node 탐색\n",
    "- 삭제할 Node가 없는 경우도 처리해야 함\n",
    "  - 이를 위해 삭제할 Node가 없는 경우는 False를 리턴하고, 함수를 종료 시킴"
   ]
  },
  {
   "cell_type": "code",
   "execution_count": null,
   "metadata": {},
   "outputs": [],
   "source": [
    "def delete(self, value):\n",
    "    searched = False\n",
    "    current_node = self.head\n",
    "    parent = self.head\n",
    "    while current_node:\n",
    "        if current_node.value == value:\n",
    "            searched = True\n",
    "            break\n",
    "        elif current_node.value > value:\n",
    "            parent = current_node\n",
    "            current_node = current_node.left\n",
    "        else:\n",
    "            parent = current_node\n",
    "            current_node = current_node.right\n",
    "    \n",
    "    if searched == False:\n",
    "        return False\n",
    "    \n",
    "    ### 이후부터 Case들을 분리해서, 코드 작성"
   ]
  },
  {
   "cell_type": "markdown",
   "metadata": {},
   "source": [
    "#### 5.5.2. Case1: 삭제할 Node가 Leaf Node인 경우\n",
    "<img src=\"http://www.fun-coding.org/00_Images/tree_remove_leaf_code.png\" width=\"600\" />"
   ]
  },
  {
   "cell_type": "code",
   "execution_count": null,
   "metadata": {},
   "outputs": [],
   "source": [
    "# current_node 가 삭제할 Node, parent는 삭제할 Node의 Parent Node인 상태\n",
    "    if current_node.left == None and current_node.right == None:\n",
    "        if value < parent.value:\n",
    "            parent.left = None\n",
    "        else:\n",
    "            parent.right = None\n",
    "        del current_node"
   ]
  },
  {
   "cell_type": "markdown",
   "metadata": {},
   "source": [
    "#### 5.5.2. Case2: 삭제할 Node가 Child Node를 한 개 가지고 있을 경우\n",
    "<img src=\"http://www.fun-coding.org/00_Images/tree_remove_1child_code.png\" width=\"400\" />"
   ]
  },
  {
   "cell_type": "code",
   "execution_count": null,
   "metadata": {},
   "outputs": [],
   "source": [
    "    if current_node.left != None and current_node.right == None:\n",
    "        if value < parent.value:\n",
    "            parent.left = current_node.left\n",
    "        else:\n",
    "            parent.right = current_node.left\n",
    "    elif current_node.left == None and current_node.right != None:\n",
    "        if value < parent.value:\n",
    "            parent.left = current_node.right\n",
    "        else:\n",
    "            parent.right = current_node.right"
   ]
  },
  {
   "cell_type": "markdown",
   "metadata": {},
   "source": [
    "#### 5.5.3. Case3-1: 삭제할 Node가 Child Node를 두 개 가지고 있을 경우 (삭제할 Node가 Parent Node 왼쪽에 있을 때)\n",
    "* 기본 사용 가능 전략\n",
    "  1. **삭제할 Node의 오른쪽 자식 중, 가장 작은 값을 삭제할 Node의 Parent Node가 가리키도록 한다.**\n",
    "  2. 삭제할 Node의 왼쪽 자식 중, 가장 큰 값을 삭제할 Node의 Parent Node가 가리키도록 한다.\n",
    "* 기본 사용 가능 전략 중, 1번 전략을 사용하여 코드를 구현하기로 함\n",
    "  - 경우의 수가 또다시 두가지가 있음\n",
    "    - **Case3-1-1:** 삭제할 Node가 Parent Node의 왼쪽에 있고, 삭제할 Node의 오른쪽 자식 중, 가장 작은 값을 가진 Node의 Child Node가 없을 때\n",
    "    - **Case3-1-2:** 삭제할 Node가 Parent Node의 왼쪽에 있고, 삭제할 Node의 오른쪽 자식 중, 가장 작은 값을 가진 Node의 오른쪽에 Child Node가 있을 때\n",
    "       - 가장 작은 값을 가진 Node의 Child Node가 왼쪽에 있을 경우는 없음, 왜냐하면 왼쪽 Node가 있다는 것은 해당 Node보다 더 작은 값을 가진 Node가 있다는 뜻이기 때문임\n",
    "\n",
    "\n",
    "<img src=\"http://www.fun-coding.org/00_Images/tree_remove_2child_code_left.png\" width=\"600\" />"
   ]
  },
  {
   "cell_type": "code",
   "execution_count": null,
   "metadata": {},
   "outputs": [],
   "source": [
    "    if current_node.left != None and current_node.right != None: # case3\n",
    "        if value < parent.value: # case3-1\n",
    "            change_node = current_node.right\n",
    "            change_node_parent = current_node\n",
    "            while change_node.left != None:\n",
    "                change_node_parent = change_node\n",
    "                change_node = change_node.left\n",
    "            if change_node.right != None: # case3-1-2\n",
    "                change_node_parent.left = change_node.right\n",
    "            else: # case 3-1-1\n",
    "                change_node_parent.left = None\n",
    "            parent.left = change_node\n",
    "            change_node.left = current_node.left\n",
    "            change_node.right = current_node.right"
   ]
  },
  {
   "cell_type": "markdown",
   "metadata": {},
   "source": [
    "#### 5.5.4. Case3-2: 삭제할 Node가 Child Node를 두 개 가지고 있을 경우 (삭제할 Node가 Parent Node 오른쪽에 있을 때)\n",
    "* 기본 사용 가능 전략\n",
    "  1. **삭제할 Node의 오른쪽 자식 중, 가장 작은 값을 삭제할 Node의 Parent Node가 가리키도록 한다.**\n",
    "  2. 삭제할 Node의 왼쪽 자식 중, 가장 큰 값을 삭제할 Node의 Parent Node가 가리키도록 한다.\n",
    "* 기본 사용 가능 전략 중, 1번 전략을 사용하여 코드를 구현하기로 함\n",
    "  - 경우의 수가 또다시 두가지가 있음\n",
    "    - **Case3-2-1:** 삭제할 Node가 Parent Node의 오른쪽에 있고, 삭제할 Node의 오른쪽 자식 중, 가장 작은 값을 가진 Node의 Child Node가 없을 때\n",
    "    - **Case3-2-2:** 삭제할 Node가 Parent Node의 오른쪽에 있고, 삭제할 Node의 오른쪽 자식 중, 가장 작은 값을 가진 Node의 오른쪽에 Child Node가 있을 때\n",
    "       - 가장 작은 값을 가진 Node의 Child Node가 왼쪽에 있을 경우는 없음, 왜냐하면 왼쪽 Node가 있다는 것은 해당 Node보다 더 작은 값을 가진 Node가 있다는 뜻이기 때문임\n",
    "\n",
    "\n",
    "<img src=\"http://www.fun-coding.org/00_Images/tree_remove_2child_code_right.png\" width=\"600\" />"
   ]
  },
  {
   "cell_type": "code",
   "execution_count": null,
   "metadata": {},
   "outputs": [],
   "source": [
    "        else:\n",
    "            change_node = current_node.right\n",
    "            change_node_parent = current_node\n",
    "            while change_node.left != None:\n",
    "                change_node_parent = change_node\n",
    "                change_node = change_node.left\n",
    "            if change_node.right != None: # case3-1-2\n",
    "                change_node_parent.left = change_node.right\n",
    "            else: # case 3-1-1\n",
    "                change_node_parent.left = None\n",
    "            parent.right = change_node\n",
    "            change_node.left = current_node.left\n",
    "            change_node.right = current_node.right"
   ]
  },
  {
   "cell_type": "markdown",
   "metadata": {},
   "source": [
    "#### 5.5.5. 파이썬 전체 코드 구현"
   ]
  },
  {
   "cell_type": "code",
   "execution_count": 21,
   "metadata": {},
   "outputs": [],
   "source": [
    "class Node:\n",
    "    def __init__(self, value):\n",
    "        self.value = value\n",
    "        self.left = None\n",
    "        self.right = None\n",
    "\n",
    "class BinarySearchTree:\n",
    "    def __init__(self, head):\n",
    "        self.head = Node(head)\n",
    "    \n",
    "    def insert(self, value):\n",
    "        current_node = self.head\n",
    "        while True:\n",
    "            if value < current_node.value:\n",
    "                if current_node.left != None:\n",
    "                    current_node = current_node.left\n",
    "                else:\n",
    "                    current_node.left = Node(value)\n",
    "                    break\n",
    "            else:\n",
    "                if current_node.right != None:\n",
    "                    current_node = current_node.right\n",
    "                else:\n",
    "                    current_node.right = Node(value)\n",
    "                    break\n",
    "    \n",
    "    def search(self, value):\n",
    "        current_node = self.head\n",
    "        while current_node:\n",
    "            if current_node.value == value:\n",
    "                return True\n",
    "            elif current_node.value > value:\n",
    "                current_node = current_node.left\n",
    "            else:\n",
    "                current_node = current_node.right\n",
    "        return False\n",
    "    \n",
    "    def delete(self, value):\n",
    "        searched = False\n",
    "        current_node = self.head\n",
    "        parent = self.head\n",
    "        while current_node:\n",
    "            if current_node.value == value:\n",
    "                searched = True\n",
    "                break\n",
    "            elif current_node.value > value:\n",
    "                parent = current_node\n",
    "                current_node = current_node.left\n",
    "            else:\n",
    "                parent = current_node\n",
    "                current_node = current_node.right\n",
    "\n",
    "        if searched == False:\n",
    "            return False\n",
    "\n",
    "        # current_node가 삭제할 Node, parent는 삭제할 Node의 Parent Node인 상태\n",
    "        \n",
    "        # current_node가 Leaf Node인 경우 (child node가 없을때)\n",
    "        if current_node.left == None and current_node.right == None:\n",
    "            if value < parent.value:\n",
    "                parent.left = None\n",
    "            else:\n",
    "                parent.right = None\n",
    "            del current_node\n",
    "        \n",
    "        # current_node가 child node를 1개 가지고 있을 때\n",
    "        elif current_node.left != None and current_node.right == None: # child node가 왼쪽에 있을 때\n",
    "            if value < parent.value:\n",
    "                parent.left = current_node.left\n",
    "            else:\n",
    "                parent.right = current_node.left\n",
    "        elif current_node.left == None and current_node.right != None: # child node가 오른쪽에 있을 때\n",
    "            if value < parent.value:\n",
    "                parent.left = current_node.right\n",
    "            else:\n",
    "                parent.right = current_node.right\n",
    "        \n",
    "        # current_node가 child node를 2개 가지고 있을 때\n",
    "        elif current_node.left != None and current_node.right != None: # case3\n",
    "            change_node = current_node.right\n",
    "            change_node_parent = current_node\n",
    "            while change_node.left != None:\n",
    "                change_node_parent = change_node\n",
    "                change_node = change_node.left\n",
    "            if change_node.right != None: # case3-1\n",
    "                change_node_parent.left = change_node.right\n",
    "            else: # case 3-2\n",
    "                change_node_parent.left = None\n",
    "            change_node.left = current_node.left\n",
    "            change_node.right = current_node.right\n",
    "            \n",
    "            if value < parent.value: # case3-0-1\n",
    "                parent.left = change_node\n",
    "            else: # case 3-0-2\n",
    "                parent.right = change_node"
   ]
  },
  {
   "cell_type": "markdown",
   "metadata": {
    "collapsed": true
   },
   "source": [
    "참고: http://ejklike.github.io/2018/01/09/traversing-a-binary-tree-1.html"
   ]
  },
  {
   "cell_type": "markdown",
   "metadata": {},
   "source": [
    "#### 5.5.6. 파이썬 전체 코드 테스트\n",
    "- random 라이브러리 활용\n",
    "  - random.randint(첫번째 숫자, 마지막 숫자): 첫번째 숫자부터 마지막 숫자 사이에 있는 숫자를 랜덤하게 선택해서 리턴\n",
    "    - 예: random.randint(0, 99): 0에서 99까지 숫자중 특정 숫자를 랜덤하게 선택해서 리턴해줌"
   ]
  },
  {
   "cell_type": "code",
   "execution_count": 22,
   "metadata": {},
   "outputs": [],
   "source": [
    "# 0 ~ 999 숫자 중에서 임의로 100개를 추출해서, 이진 탐색 트리에 입력, 검색, 삭제\n",
    "import random\n",
    "\n",
    "# 0 ~ 999 중, 100 개의 숫자 랜덤 선택\n",
    "bst_nums = set()\n",
    "while len(bst_nums) != 100:\n",
    "    bst_nums.add(random.randint(0, 999))\n",
    "# print (bst_nums)\n",
    "\n",
    "# 선택된 100개의 숫자를 이진 탐색 트리에 입력, 임의로 루트노드는 500을 넣기로 함\n",
    "binary_search_tree = BinarySearchTree(500)\n",
    "for num in bst_nums:\n",
    "    binary_search_tree.insert(num)\n",
    "    \n",
    "# 입력한 100개의 숫자 검색 (검색 기능 확인)\n",
    "for num in bst_nums:\n",
    "    if binary_search_tree.search(num) == False:\n",
    "        print ('search failed', num)\n",
    "\n",
    "# 입력한 100개의 숫자 중 10개의 숫자를 랜덤 선택\n",
    "delete_nums = set()\n",
    "bst_nums = list(bst_nums)\n",
    "while len(delete_nums) != 10:\n",
    "    delete_nums.add(bst_nums[random.randint(0, 99)])\n",
    "\n",
    "# 선택한 10개의 숫자를 삭제 (삭제 기능 확인)\n",
    "for del_num in delete_nums:\n",
    "    if binary_search_tree.delete(del_num) == False:\n",
    "        print('delete failed', del_num)"
   ]
  },
  {
   "cell_type": "markdown",
   "metadata": {},
   "source": [
    "### 6. 이진 탐색 트리의 시간 복잡도와 단점\n",
    "#### 6.1. 시간 복잡도 (탐색시)\n",
    "  - depth (트리의 높이) 를 h라고 표기한다면, O(h)\n",
    "  - n개의 노드를 가진다면, $h = log_2{n} $ 에 가까우므로, 시간 복잡도는 $ O(log{n}) $ \n",
    "     - 참고: 빅오 표기법에서 $log{n}$ 에서의 log의 밑은 10이 아니라, 2입니다.\n",
    "       - 한번 실행시마다, 50%의 실행할 수도 있는 명령을 제거한다는 의미. 즉 50%의 실행시간을 단축시킬 수 있다는 것을 의미함\n",
    "<img src=\"https://www.mathwarehouse.com/programming/images/binary-search-tree/binary-search-tree-sorted-array-animation.gif\" />\n",
    "\n",
    "(출처: https://www.mathwarehouse.com/programming/gifs/binary-search-tree.php#binary-search-tree-insertion-node)"
   ]
  },
  {
   "cell_type": "markdown",
   "metadata": {},
   "source": []
  },
  {
   "cell_type": "markdown",
   "metadata": {},
   "source": [
    "#### 6.2. 이진 탐색 트리 단점\n",
    "  - 평균 시간 복잡도는 $ O(log{n}) $ 이지만, \n",
    "    - 이는 트리가 균형잡혀 있을 때의 평균 시간복잡도이며,\n",
    "  - 다음 예와 같이 구성되어 있을 경우, 최악의 경우는 링크드 리스트등과 동일한 성능을 보여줌 ( $O(n)$ )\n",
    "<img src=\"http://www.fun-coding.org/00_Images/worstcase_bst.png\" width=\"300\" />"
   ]
  }
 ],
 "metadata": {
  "kernelspec": {
   "display_name": "Python 3",
   "language": "python",
   "name": "python3"
  },
  "language_info": {
   "codemirror_mode": {
    "name": "ipython",
    "version": 3
   },
   "file_extension": ".py",
   "mimetype": "text/x-python",
   "name": "python",
   "nbconvert_exporter": "python",
   "pygments_lexer": "ipython3",
   "version": "3.8.8"
  },
  "nbTranslate": {
   "displayLangs": [
    "*"
   ],
   "hotkey": "alt-t",
   "langInMainMenu": true,
   "sourceLang": "en",
   "targetLang": "fr",
   "useGoogleTranslate": true
  }
 },
 "nbformat": 4,
 "nbformat_minor": 1
}
