{
 "cells": [
  {
   "cell_type": "markdown",
   "metadata": {},
   "source": [
    "## 대표적인 데이터 구조: 링크드 리스트 (Linked List)"
   ]
  },
  {
   "cell_type": "markdown",
   "metadata": {},
   "source": [
    "### 1. 링크드 리스트 (Linked List) 구조\n",
    "* 연결 리스트라고도 함\n",
    "* 배열은 순차적으로 연결된 공간에 데이터를 나열하는 데이터 구조\n",
    "* 링크드 리스트는 떨어진 곳에 존재하는 데이터를 화살표로 연결해서 관리하는 데이터 구조\n",
    "* <font color='#BF360C'>본래 C언어에서는 주요한 데이터 구조이지만, 파이썬은 리스트 타입이 링크드 리스트의 기능을 모두 지원</font>"
   ]
  },
  {
   "cell_type": "markdown",
   "metadata": {},
   "source": [
    "* 링크드 리스트 기본 구조와 용어\n",
    "  - 노드(Node): 데이터 저장 단위 (데이터값, 포인터) 로 구성\n",
    "  - 포인터(pointer): 각 노드 안에서, 다음이나 이전의 노드와의 연결 정보를 가지고 있는 공간\n",
    "\n",
    "<br>\n",
    "* 일반적인 링크드 리스트 형태\n",
    "<img src=\"https://www.fun-coding.org/00_Images/linkedlist.png\" />\n",
    "(출처: wikipedia, https://en.wikipedia.org/wiki/Linked_list)"
   ]
  },
  {
   "cell_type": "markdown",
   "metadata": {},
   "source": [
    "### 2. 간단한 링크드 리스트 예"
   ]
  },
  {
   "cell_type": "markdown",
   "metadata": {},
   "source": [
    "#### Node 구현\n",
    "- 보통 파이썬에서 링크드 리스트 구현시, 파이썬 클래스를 활용함\n",
    "  - 파이썬 객체지향 문법 이해 필요\n",
    "  - 참고: https://www.fun-coding.org/PL&OOP1-3.html"
   ]
  },
  {
   "cell_type": "code",
   "execution_count": 1,
   "metadata": {},
   "outputs": [],
   "source": [
    "class Node:\n",
    "    def __init__(self, data):\n",
    "        self.data = data\n",
    "        self.next = None"
   ]
  },
  {
   "cell_type": "code",
   "execution_count": 2,
   "metadata": {},
   "outputs": [],
   "source": [
    "class Node:\n",
    "    def __init__(self, data, next=None):\n",
    "        self.data = data\n",
    "        self.next = next"
   ]
  },
  {
   "cell_type": "markdown",
   "metadata": {},
   "source": [
    "#### Node와 Node 연결하기 (포인터 활용)"
   ]
  },
  {
   "cell_type": "code",
   "execution_count": 4,
   "metadata": {},
   "outputs": [],
   "source": [
    "node1 = Node(1)\n",
    "node2 = Node(2)\n",
    "node1.next = node2\n",
    "head = node1"
   ]
  },
  {
   "cell_type": "markdown",
   "metadata": {},
   "source": [
    "#### 링크드 리스트로 데이터 추가하기"
   ]
  },
  {
   "cell_type": "code",
   "execution_count": 3,
   "metadata": {},
   "outputs": [],
   "source": [
    "class Node:\n",
    "    def __init__(self, data, next=None):\n",
    "        self.data = data\n",
    "        self.next = next\n",
    "\n",
    "def add(data):\n",
    "    node = head\n",
    "    while node.next:\n",
    "        node = node.next\n",
    "    node.next = Node(data) "
   ]
  },
  {
   "cell_type": "code",
   "execution_count": 4,
   "metadata": {},
   "outputs": [],
   "source": [
    "node1 = Node(1)\n",
    "head = node1\n",
    "for index in range(2, 10):\n",
    "    add(index)"
   ]
  },
  {
   "cell_type": "markdown",
   "metadata": {},
   "source": [
    "#### 링크드 리스트 데이터 출력하기(검색하기)"
   ]
  },
  {
   "cell_type": "code",
   "execution_count": 5,
   "metadata": {},
   "outputs": [
    {
     "name": "stdout",
     "output_type": "stream",
     "text": [
      "1\n",
      "2\n",
      "3\n",
      "4\n",
      "5\n",
      "6\n",
      "7\n",
      "8\n",
      "9\n"
     ]
    }
   ],
   "source": [
    "node = head\n",
    "while node.next:\n",
    "    print(node.data)\n",
    "    node = node.next\n",
    "print (node.data)"
   ]
  },
  {
   "cell_type": "markdown",
   "metadata": {},
   "source": [
    "### 3. 링크드 리스트의 장단점 (전통적인 C언어에서의 배열과 링크드 리스트)\n",
    "* 장점\n",
    "  - 데이터 공간을 미리 할당하지 않아도 됨\n",
    "    - 배열은 **미리 데이터 공간을 할당** 해야 함\n",
    "* 단점\n",
    "  - 연결을 위한 별도 데이터 공간이 필요하므로, 저장공간 효율이 높지 않음\n",
    "  - 연결 정보를 찾는 시간이 필요하므로 접근 속도가 느림\n",
    "  - 중간 데이터 삭제시, 앞뒤 데이터의 연결을 재구성해야 하는 부가적인 작업 필요"
   ]
  },
  {
   "cell_type": "markdown",
   "metadata": {},
   "source": [
    "### 4. 링크드 리스트의 복잡한 기능1 (링크드 리스트 데이터 사이에 데이터를 추가)\n",
    "- 링크드 리스트는 유지 관리에 부가적인 구현이 필요함\n",
    "\n",
    "<img src=\"https://www.fun-coding.org/00_Images/linkedlistadd.png\" />\n",
    "(출처: wikipedia, https://en.wikipedia.org/wiki/Linked_list)"
   ]
  },
  {
   "cell_type": "code",
   "execution_count": 6,
   "metadata": {},
   "outputs": [
    {
     "name": "stdout",
     "output_type": "stream",
     "text": [
      "1\n",
      "2\n",
      "3\n",
      "4\n",
      "5\n",
      "6\n",
      "7\n",
      "8\n",
      "9\n"
     ]
    }
   ],
   "source": [
    "node = head\n",
    "while node.next:\n",
    "    print(node.data)\n",
    "    node = node.next\n",
    "print (node.data)"
   ]
  },
  {
   "cell_type": "code",
   "execution_count": 7,
   "metadata": {},
   "outputs": [],
   "source": [
    "node3 = Node(1.5)"
   ]
  },
  {
   "cell_type": "code",
   "execution_count": 8,
   "metadata": {},
   "outputs": [],
   "source": [
    "node = head\n",
    "search = True\n",
    "while search:\n",
    "    if node.data == 1:\n",
    "        search = False\n",
    "    else:\n",
    "        node = node.next\n",
    "\n",
    "node3.next = node.next\n",
    "node.next = node3"
   ]
  },
  {
   "cell_type": "code",
   "execution_count": 9,
   "metadata": {},
   "outputs": [
    {
     "name": "stdout",
     "output_type": "stream",
     "text": [
      "1\n",
      "1.5\n",
      "2\n",
      "3\n",
      "4\n",
      "5\n",
      "6\n",
      "7\n",
      "8\n",
      "9\n"
     ]
    }
   ],
   "source": [
    "node = head\n",
    "while node.next:\n",
    "    print(node.data)\n",
    "    node = node.next\n",
    "print (node.data)"
   ]
  },
  {
   "cell_type": "markdown",
   "metadata": {},
   "source": [
    "### 5. 파이썬 객체지향 프로그래밍으로 링크드 리스트 구현하기"
   ]
  },
  {
   "cell_type": "code",
   "execution_count": 10,
   "metadata": {},
   "outputs": [],
   "source": [
    "class Node:\n",
    "    def __init__(self, data, next=None):\n",
    "        self.data = data\n",
    "        self.next = next\n",
    "    \n",
    "class LinkedList:\n",
    "    def __init__(self, data):\n",
    "        self.head = Node(data)\n",
    "        self.tail = self.head\n",
    "        \n",
    "    def add(self, data):\n",
    "        if self.head == '':\n",
    "            self.head = Node(data)\n",
    "            self.tail = self.head\n",
    "        else:\n",
    "            node = Node(data)\n",
    "            self.tail.next = node\n",
    "            self.tail = node\n",
    "        \n",
    "    def desc(self):\n",
    "        node = self.head\n",
    "        while node:\n",
    "            print (node.data)\n",
    "            node = node.next"
   ]
  },
  {
   "cell_type": "code",
   "execution_count": 11,
   "metadata": {},
   "outputs": [
    {
     "name": "stdout",
     "output_type": "stream",
     "text": [
      "0\n"
     ]
    }
   ],
   "source": [
    "linkedlist1 = LinkedList(0)\n",
    "linkedlist1.desc()"
   ]
  },
  {
   "cell_type": "code",
   "execution_count": 12,
   "metadata": {},
   "outputs": [
    {
     "name": "stdout",
     "output_type": "stream",
     "text": [
      "0\n",
      "1\n",
      "2\n",
      "3\n",
      "4\n",
      "5\n",
      "6\n",
      "7\n",
      "8\n",
      "9\n"
     ]
    }
   ],
   "source": [
    "for data in range(1, 10):\n",
    "    linkedlist1.add(data)\n",
    "linkedlist1.desc()"
   ]
  },
  {
   "cell_type": "markdown",
   "metadata": {},
   "source": [
    "### 6. 링크드 리스트의 복잡한 기능2 (특정 노드를 삭제)\n",
    "* 다음 코드는 위의 코드에서 delete 메서드만 추가한 것이므로 해당 메서드만 확인하면 됨"
   ]
  },
  {
   "cell_type": "code",
   "execution_count": 27,
   "metadata": {},
   "outputs": [],
   "source": [
    "class Node:\n",
    "    def __init__(self, data, next=None):\n",
    "        self.data = data\n",
    "        self.next = next\n",
    "    \n",
    "class LinkedList:\n",
    "    def __init__(self, data):\n",
    "        self.head = Node(data)\n",
    "        self.tail = self.head\n",
    "        \n",
    "    def add(self, data):\n",
    "        if self.head == '':\n",
    "            self.head = Node(data)\n",
    "            self.tail = self.head\n",
    "        else:\n",
    "            node = Node(data)\n",
    "            self.tail.next = node\n",
    "            self.tail = node\n",
    "        \n",
    "    def desc(self):\n",
    "        node = self.head\n",
    "        while node:\n",
    "            print (node.data)\n",
    "            node = node.next\n",
    "    \n",
    "    def delete(self, data):\n",
    "        if self.head == '':\n",
    "            print (\"해당 값을 가진 노드가 없습니다.\")\n",
    "            return\n",
    "        \n",
    "        if self.head.data == data:\n",
    "            head = self.head\n",
    "            tail = self.tail\n",
    "            self.head = self.head.next\n",
    "            if self.tail == head:\n",
    "                self.tail = self.head\n",
    "                del tail\n",
    "            del head\n",
    "        else:\n",
    "            node = self.head\n",
    "            while node.next:\n",
    "                if node.next.data == data:\n",
    "                    temp = node.next\n",
    "                    node.next = node.next.next\n",
    "                    del temp\n",
    "                    if node.next == None:\n",
    "                        self.tail = node\n",
    "                    return\n",
    "                else:\n",
    "                    node = node.next"
   ]
  },
  {
   "cell_type": "markdown",
   "metadata": {},
   "source": [
    "#### 테스트를 위해 1개 노드를 만들어 봄"
   ]
  },
  {
   "cell_type": "code",
   "execution_count": 35,
   "metadata": {},
   "outputs": [
    {
     "name": "stdout",
     "output_type": "stream",
     "text": [
      "0\n"
     ]
    }
   ],
   "source": [
    "linkedlist1 = LinkedList(0)\n",
    "linkedlist1.desc()"
   ]
  },
  {
   "cell_type": "markdown",
   "metadata": {},
   "source": [
    "#### head 가 살아있음을 확인"
   ]
  },
  {
   "cell_type": "code",
   "execution_count": 38,
   "metadata": {},
   "outputs": [
    {
     "data": {
      "text/plain": [
       "<__main__.Node at 0x7fa6d81cb1c0>"
      ]
     },
     "execution_count": 38,
     "metadata": {},
     "output_type": "execute_result"
    }
   ],
   "source": [
    "linkedlist1.head\n",
    "linkedlist1.tail"
   ]
  },
  {
   "cell_type": "markdown",
   "metadata": {},
   "source": [
    "#### head 를 지워봄(위에서 언급한 경우의 수1)"
   ]
  },
  {
   "cell_type": "code",
   "execution_count": 30,
   "metadata": {},
   "outputs": [],
   "source": [
    "linkedlist1.delete(0)"
   ]
  },
  {
   "cell_type": "markdown",
   "metadata": {},
   "source": [
    "#### 다음 코드 실행시 아무것도 안나온다는 것은 linkedlist1.head 가 정상적으로 삭제되었음을 의미"
   ]
  },
  {
   "cell_type": "code",
   "execution_count": 33,
   "metadata": {},
   "outputs": [],
   "source": [
    "linkedlist1.head\n",
    "linkedlist1.tail"
   ]
  },
  {
   "cell_type": "markdown",
   "metadata": {},
   "source": [
    "#### 다시 하나의 노드를 만들어봄"
   ]
  },
  {
   "cell_type": "code",
   "execution_count": 39,
   "metadata": {},
   "outputs": [
    {
     "name": "stdout",
     "output_type": "stream",
     "text": [
      "0\n"
     ]
    }
   ],
   "source": [
    "linkedlist1 = LinkedList(0)\n",
    "linkedlist1.desc()"
   ]
  },
  {
   "cell_type": "markdown",
   "metadata": {},
   "source": [
    "#### 이번엔 여러 노드를 더 추가해봄"
   ]
  },
  {
   "cell_type": "code",
   "execution_count": 40,
   "metadata": {},
   "outputs": [
    {
     "name": "stdout",
     "output_type": "stream",
     "text": [
      "0\n",
      "1\n",
      "2\n",
      "3\n",
      "4\n",
      "5\n",
      "6\n",
      "7\n",
      "8\n",
      "9\n"
     ]
    }
   ],
   "source": [
    "for data in range(1, 10):\n",
    "    linkedlist1.add(data)\n",
    "linkedlist1.desc()"
   ]
  },
  {
   "cell_type": "markdown",
   "metadata": {},
   "source": [
    "#### 노드 중에 한개를 삭제함 (위에서 언급한 경우의 수2)"
   ]
  },
  {
   "cell_type": "code",
   "execution_count": 41,
   "metadata": {},
   "outputs": [],
   "source": [
    "linkedlist1.delete(4)"
   ]
  },
  {
   "cell_type": "markdown",
   "metadata": {},
   "source": [
    "#### 특정 노드가 삭제되었음을 알 수 있음"
   ]
  },
  {
   "cell_type": "code",
   "execution_count": 42,
   "metadata": {},
   "outputs": [
    {
     "name": "stdout",
     "output_type": "stream",
     "text": [
      "0\n",
      "1\n",
      "2\n",
      "3\n",
      "5\n",
      "6\n",
      "7\n",
      "8\n",
      "9\n"
     ]
    }
   ],
   "source": [
    "linkedlist1.desc()"
   ]
  },
  {
   "cell_type": "code",
   "execution_count": 43,
   "metadata": {},
   "outputs": [],
   "source": [
    "linkedlist1.delete(9)"
   ]
  },
  {
   "cell_type": "code",
   "execution_count": 44,
   "metadata": {},
   "outputs": [
    {
     "name": "stdout",
     "output_type": "stream",
     "text": [
      "0\n",
      "1\n",
      "2\n",
      "3\n",
      "5\n",
      "6\n",
      "7\n",
      "8\n"
     ]
    }
   ],
   "source": [
    "linkedlist1.desc()"
   ]
  },
  {
   "cell_type": "markdown",
   "metadata": {},
   "source": [
    "**연습1: 위 코드에서 노드 데이터가 2인 노드 삭제해보기**"
   ]
  },
  {
   "cell_type": "code",
   "execution_count": 45,
   "metadata": {},
   "outputs": [
    {
     "name": "stdout",
     "output_type": "stream",
     "text": [
      "0\n",
      "1\n",
      "3\n",
      "5\n",
      "6\n",
      "7\n",
      "8\n"
     ]
    }
   ],
   "source": [
    "linkedlist1.delete(2)\n",
    "linkedlist1.desc()"
   ]
  },
  {
   "cell_type": "markdown",
   "metadata": {},
   "source": [
    "**연습2: 위 코드에서 노드 데이터가 특정 숫자인 노드를 찾는 함수를 만들고, 테스트해보기**\n",
    "<br/>\n",
    "테스트: 임의로 1 ~ 9까지 데이터를 링크드 리스트에 넣어보고, 데이터 값이 4인 노드의 데이터 값 출력해보기"
   ]
  },
  {
   "cell_type": "code",
   "execution_count": 55,
   "metadata": {},
   "outputs": [
    {
     "name": "stdout",
     "output_type": "stream",
     "text": [
      "4\n"
     ]
    }
   ],
   "source": [
    "class Node:\n",
    "    def __init__(self, data, next=None):\n",
    "        self.data = data\n",
    "        self.next = next\n",
    "    \n",
    "class LinkedList:\n",
    "    def __init__(self, data):\n",
    "        self.head = Node(data)\n",
    "        self.tail = self.head\n",
    "        \n",
    "    def add(self, data):\n",
    "        if self.head == '':\n",
    "            self.head = Node(data)\n",
    "            self.tail = self.head\n",
    "        else:\n",
    "            node = Node(data)\n",
    "            self.tail.next = node\n",
    "            self.tail = node\n",
    "        \n",
    "    def desc(self):\n",
    "        node = self.head\n",
    "        while node:\n",
    "            print (node.data)\n",
    "            node = node.next\n",
    "    \n",
    "    def delete(self, data):\n",
    "        if self.head == '':\n",
    "            print (\"해당 값을 가진 노드가 없습니다.\")\n",
    "            return\n",
    "        \n",
    "        if self.head.data == data:\n",
    "            head = self.head\n",
    "            tail = self.tail\n",
    "            self.head = self.head.next\n",
    "            if self.tail == head:\n",
    "                self.tail = self.head\n",
    "                del tail\n",
    "            del head\n",
    "        else:\n",
    "            node = self.head\n",
    "            while node.next:\n",
    "                if node.next.data == data:\n",
    "                    temp = node.next\n",
    "                    node.next = node.next.next\n",
    "                    del temp\n",
    "                    if node.next == None:\n",
    "                        self.tail = node\n",
    "                    return\n",
    "                else:\n",
    "                    node = node.next\n",
    "    \n",
    "    def find(self, data):\n",
    "        node = self.head\n",
    "        while node:\n",
    "            if node.data == data:\n",
    "                return node\n",
    "            else:\n",
    "                node = node.next\n",
    "        return False\n",
    "\n",
    "\n",
    "# 테스트\n",
    "linkedlist1 = LinkedList(1)\n",
    "for data in range(2, 10):\n",
    "    linkedlist1.add(data)\n",
    "\n",
    "node = linkedlist1.find(4)\n",
    "print(node.data)"
   ]
  },
  {
   "cell_type": "markdown",
   "metadata": {},
   "source": [
    "### 7. 다양한 링크드 리스트 구조 \n",
    "* 더블 링크드 리스트(Doubly linked list) 기본 구조 \n",
    "  - 이중 연결 리스트라고도 함\n",
    "  - 장점: 양방향으로 연결되어 있어서 노드 탐색이 양쪽으로 모두 가능\n",
    "  <br>\n",
    "<img src=\"https://www.fun-coding.org/00_Images/doublelinkedlist.png\" />\n",
    "(출처: wikipedia, https://en.wikipedia.org/wiki/Linked_list)"
   ]
  },
  {
   "cell_type": "code",
   "execution_count": 56,
   "metadata": {},
   "outputs": [],
   "source": [
    "class Node:\n",
    "    def __init__(self, data, prev=None, next=None):\n",
    "        self.data = data\n",
    "        self.prev = prev\n",
    "        self.next = next\n",
    "    \n",
    "class DoubleLinkedList:\n",
    "    def __init__(self, data):\n",
    "        self.head = Node(data)\n",
    "        self.tail = self.head\n",
    "    \n",
    "    def add(self, data):\n",
    "        if self.head == None:\n",
    "            self.head = Node(data)\n",
    "            self.tail = self.head\n",
    "        else:\n",
    "            node = self.tail\n",
    "            new = Node(data)\n",
    "            node.next = new\n",
    "            new.prev = self.tail\n",
    "            self.tail = new\n",
    "    \n",
    "    def desc(self):\n",
    "        node = self.head\n",
    "        while node:\n",
    "            print (node.data)\n",
    "            node = node.next"
   ]
  },
  {
   "cell_type": "code",
   "execution_count": 57,
   "metadata": {},
   "outputs": [
    {
     "name": "stdout",
     "output_type": "stream",
     "text": [
      "0\n",
      "1\n",
      "2\n",
      "3\n",
      "4\n",
      "5\n",
      "6\n",
      "7\n",
      "8\n",
      "9\n"
     ]
    }
   ],
   "source": [
    "double_linked_list = DoubleLinkedList(0)\n",
    "for data in range(1, 10):\n",
    "    double_linked_list.add(data)\n",
    "double_linked_list.desc()"
   ]
  },
  {
   "cell_type": "markdown",
   "metadata": {},
   "source": [
    "**연습3: 위 코드에서 노드 데이터가 특정 숫자인 노드 앞에 데이터를 추가하는 함수를 만들고, 테스트해보기**\n",
    "<br>\n",
    "- 더블 링크드 리스트의 tail 에서부터 뒤로 이동하며, 특정 숫자인 노드를 찾는 방식으로 함수를 구현하기<br>\n",
    "- 테스트: 임의로 0 ~ 9까지 데이터를 링크드 리스트에 넣어보고, 데이터 값이 2인 노드 앞에 1.5 데이터 값을 가진 노드를 추가해보기\n",
    "</div>"
   ]
  },
  {
   "cell_type": "code",
   "execution_count": 60,
   "metadata": {},
   "outputs": [],
   "source": [
    "class Node:\n",
    "    def __init__(self, data, prev=None, next=None):\n",
    "        self.prev = prev\n",
    "        self.data = data\n",
    "        self.next = next\n",
    "\n",
    "class DoubleLinkedList:\n",
    "    def __init__(self, data):\n",
    "        self.head = Node(data)\n",
    "        self.tail = self.head\n",
    "\n",
    "    def add(self, data):\n",
    "        if self.head == None:\n",
    "            self.head = Node(data)\n",
    "            self.tail = self.head\n",
    "        else:\n",
    "            node = self.tail\n",
    "            new = Node(data)\n",
    "            node.next = new\n",
    "            new.prev = self.tail\n",
    "            self.tail = new\n",
    "\n",
    "    def desc(self):\n",
    "        node = self.head\n",
    "        while node:\n",
    "            print (node.data)\n",
    "            node = node.next\n",
    "    \n",
    "    def search_from_head(self, data):\n",
    "        if self.head == None:\n",
    "            return False\n",
    "    \n",
    "        node = self.head\n",
    "        while node:\n",
    "            if node.data == data:\n",
    "                return node\n",
    "            else:\n",
    "                node = node.next\n",
    "        return False\n",
    "    \n",
    "    def search_from_tail(self, data):\n",
    "        if self.tail == None:\n",
    "            return False\n",
    "    \n",
    "        node = self.tail\n",
    "        while node:\n",
    "            if node.data == data:\n",
    "                return node\n",
    "            else:\n",
    "                node = node.prev\n",
    "        return False\n",
    "    \n",
    "    def insert(self, data, before_data):\n",
    "        if self.head == None:\n",
    "            self.head = Node(data)\n",
    "            self.tail = self.head\n",
    "            return True\n",
    "        else:\n",
    "            node = self.head\n",
    "            while node and node.data != before_data:\n",
    "                node = node.next\n",
    "            new = Node(data)\n",
    "            node.prev.next = new\n",
    "            new.prev = node.prev\n",
    "            node.prev = new\n",
    "            new.next = node\n",
    "            return True"
   ]
  },
  {
   "cell_type": "code",
   "execution_count": 61,
   "metadata": {},
   "outputs": [
    {
     "name": "stdout",
     "output_type": "stream",
     "text": [
      "0\n",
      "1\n",
      "2\n",
      "3\n",
      "4\n",
      "5\n",
      "6\n",
      "7\n",
      "8\n",
      "9\n"
     ]
    }
   ],
   "source": [
    "double_linked_list = DoubleLinkedList(0)\n",
    "for data in range(1, 10):\n",
    "    double_linked_list.add(data)\n",
    "double_linked_list.desc()"
   ]
  },
  {
   "cell_type": "code",
   "execution_count": 62,
   "metadata": {},
   "outputs": [
    {
     "data": {
      "text/plain": [
       "3"
      ]
     },
     "execution_count": 62,
     "metadata": {},
     "output_type": "execute_result"
    }
   ],
   "source": [
    "node_3 = double_linked_list.search_from_tail(3)\n",
    "node_3.data"
   ]
  },
  {
   "cell_type": "code",
   "execution_count": 64,
   "metadata": {},
   "outputs": [
    {
     "name": "stdout",
     "output_type": "stream",
     "text": [
      "0\n",
      "1\n",
      "1.5\n",
      "2\n",
      "3\n",
      "4\n",
      "5\n",
      "6\n",
      "7\n",
      "8\n",
      "9\n"
     ]
    }
   ],
   "source": [
    "double_linked_list.insert(1.5, 2)\n",
    "double_linked_list.desc()"
   ]
  },
  {
   "cell_type": "code",
   "execution_count": 65,
   "metadata": {},
   "outputs": [
    {
     "data": {
      "text/plain": [
       "1.5"
      ]
     },
     "execution_count": 65,
     "metadata": {},
     "output_type": "execute_result"
    }
   ],
   "source": [
    "node_3 = double_linked_list.search_from_tail(1.5)\n",
    "node_3.data"
   ]
  },
  {
   "cell_type": "markdown",
   "metadata": {},
   "source": [
    "**연습4: 위 코드에서 노드 데이터가 특정 숫자인 노드 뒤에 데이터를 추가하는 함수를 만들고, 테스트해보기**\n",
    "<br>\n",
    "- 더블 링크드 리스트의 head 에서부터 다음으로 이동하며, 특정 숫자인 노드를 찾는 방식으로 함수를 구현하기<br>\n",
    "- 테스트: 임의로 0 ~ 9까지 데이터를 링크드 리스트에 넣어보고, 데이터 값이 1인 노드 다음에 1.7 데이터 값을 가진 노드를 추가해보기\n",
    "</div>"
   ]
  },
  {
   "cell_type": "code",
   "execution_count": 66,
   "metadata": {},
   "outputs": [
    {
     "name": "stdout",
     "output_type": "stream",
     "text": [
      "0\n",
      "1\n",
      "1.7\n",
      "2\n",
      "3\n",
      "4\n",
      "5\n",
      "6\n",
      "7\n",
      "8\n",
      "9\n"
     ]
    }
   ],
   "source": [
    "class Node:\n",
    "    def __init__(self, data, prev=None, next=None):\n",
    "        self.prev = prev\n",
    "        self.data = data\n",
    "        self.next = next\n",
    "\n",
    "class DoubleLinkedList:\n",
    "    def __init__(self, data):\n",
    "        self.head = Node(data)\n",
    "        self.tail = self.head\n",
    "\n",
    "    def add(self, data):\n",
    "        if self.head == None:\n",
    "            self.head = Node(data)\n",
    "            self.tail = self.head\n",
    "        else:\n",
    "            node = self.tail\n",
    "            new = Node(data)\n",
    "            node.next = new\n",
    "            new.prev = self.tail\n",
    "            self.tail = new\n",
    "\n",
    "    def desc(self):\n",
    "        node = self.head\n",
    "        while node:\n",
    "            print (node.data)\n",
    "            node = node.next\n",
    "    \n",
    "    def search_from_head(self, data):\n",
    "        if self.head == None:\n",
    "            return False\n",
    "    \n",
    "        node = self.head\n",
    "        while node:\n",
    "            if node.data == data:\n",
    "                return node\n",
    "            else:\n",
    "                node = node.next\n",
    "        return False\n",
    "    \n",
    "    def search_from_tail(self, data):\n",
    "        if self.tail == None:\n",
    "            return False\n",
    "    \n",
    "        node = self.tail\n",
    "        while node:\n",
    "            if node.data == data:\n",
    "                return node\n",
    "            else:\n",
    "                node = node.prev\n",
    "        return False\n",
    "    \n",
    "    def insert_before(self, data, before_data):\n",
    "        if self.head == None:\n",
    "            self.head = Node(data)\n",
    "            self.tail = self.head\n",
    "            return True\n",
    "        else:\n",
    "            node = self.head\n",
    "            while node and node.data != before_data:\n",
    "                node = node.next\n",
    "            new = Node(data)\n",
    "            node.prev.next = new\n",
    "            new.prev = node.prev\n",
    "            node.prev = new\n",
    "            new.next = node\n",
    "            return True\n",
    "    \n",
    "    def insert_after(self, data, after_data):\n",
    "        if self.head == None:\n",
    "            self.head = Node(data)\n",
    "            self.tail = self.head\n",
    "            return True\n",
    "        else:\n",
    "            node = self.head\n",
    "            while node and node.data != after_data:\n",
    "                node = node.next\n",
    "            new = Node(data)\n",
    "            new.prev = node\n",
    "            new.next = node.next\n",
    "            node.next.prev = new\n",
    "            node.next = new\n",
    "            return True\n",
    "\n",
    "# 테스트\n",
    "double_linked_list = DoubleLinkedList(0)\n",
    "for i in range(1, 10):\n",
    "    double_linked_list.add(i)\n",
    "\n",
    "double_linked_list.insert_after(1.7, 1)\n",
    "double_linked_list.desc()"
   ]
  }
 ],
 "metadata": {
  "kernelspec": {
   "display_name": "Python 3",
   "language": "python",
   "name": "python3"
  },
  "language_info": {
   "codemirror_mode": {
    "name": "ipython",
    "version": 3
   },
   "file_extension": ".py",
   "mimetype": "text/x-python",
   "name": "python",
   "nbconvert_exporter": "python",
   "pygments_lexer": "ipython3",
   "version": "3.8.8"
  },
  "nbTranslate": {
   "displayLangs": [
    "*"
   ],
   "hotkey": "alt-t",
   "langInMainMenu": true,
   "sourceLang": "en",
   "targetLang": "fr",
   "useGoogleTranslate": true
  }
 },
 "nbformat": 4,
 "nbformat_minor": 1
}
